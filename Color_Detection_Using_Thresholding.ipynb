{
 "cells": [
  {
   "cell_type": "markdown",
   "metadata": {},
   "source": [
    "# Computer Vision "
   ]
  },
  {
   "cell_type": "markdown",
   "metadata": {},
   "source": [
    "## # Detect any simple BGR Color in an image"
   ]
  },
  {
   "cell_type": "code",
   "execution_count": null,
   "metadata": {},
   "outputs": [],
   "source": [
    "#import libraries\n",
    "import cv2\n",
    "import numpy as np\n",
    "import matplotlib.pyplot as plt\n"
   ]
  },
  {
   "cell_type": "code",
   "execution_count": 4,
   "metadata": {},
   "outputs": [
    {
     "name": "stdout",
     "output_type": "stream",
     "text": [
      "[[[249  33   4]\n",
      "  [249  33   4]\n",
      "  [249  33   4]\n",
      "  ...\n",
      "  [249  33   4]\n",
      "  [249  33   4]\n",
      "  [249  33   4]]\n",
      "\n",
      " [[249  33   4]\n",
      "  [249  33   4]\n",
      "  [249  33   4]\n",
      "  ...\n",
      "  [249  33   4]\n",
      "  [249  33   4]\n",
      "  [249  33   4]]\n",
      "\n",
      " [[249  33   4]\n",
      "  [249  33   4]\n",
      "  [249  33   4]\n",
      "  ...\n",
      "  [249  33   4]\n",
      "  [249  33   4]\n",
      "  [249  33   4]]\n",
      "\n",
      " ...\n",
      "\n",
      " [[249  33   4]\n",
      "  [249  33   4]\n",
      "  [249  33   4]\n",
      "  ...\n",
      "  [249  33   4]\n",
      "  [249  33   4]\n",
      "  [249  33   4]]\n",
      "\n",
      " [[249  33   4]\n",
      "  [249  33   4]\n",
      "  [249  33   4]\n",
      "  ...\n",
      "  [249  33   4]\n",
      "  [249  33   4]\n",
      "  [249  33   4]]\n",
      "\n",
      " [[249  33   4]\n",
      "  [249  33   4]\n",
      "  [249  33   4]\n",
      "  ...\n",
      "  [249  33   4]\n",
      "  [249  33   4]\n",
      "  [249  33   4]]]\n"
     ]
    }
   ],
   "source": [
    "img = cv2.imread('input3.jpg',1)\n",
    "\n",
    "d = img.shape\n",
    "shape = (d[1]+200,d[0]+200)\n",
    "img = cv2.resize(img,shape)\n",
    "\n",
    "region = cv2.selectROI('window',img)\n",
    "cv2.waitKey(0)\n",
    "cv2.destroyAllWindows()\n",
    "\n",
    "# colors in BGR form\n",
    "(x,y,w,h) = region\n",
    "cropped = img[y:y+h, x:x+w]\n",
    "print(cropped)\n",
    "\n",
    "\n",
    "\n"
   ]
  },
  {
   "cell_type": "code",
   "execution_count": 5,
   "metadata": {},
   "outputs": [
    {
     "data": {
      "image/png": "[encoded data removed]",
      "text/plain": [
       "<Figure size 432x288 with 2 Axes>"
      ]
     },
     "metadata": {},
     "output_type": "display_data"
    }
   ],
   "source": [
    "\n",
    "\n",
    "\n",
    "import numpy as np\n",
    "import matplotlib.pyplot as plt\n",
    "\n",
    "#bgr\n",
    "blue = img[:,:,0]\n",
    "green = img[:,:,1]\n",
    "red = img[:,:,2]\n",
    "\n",
    "#image rows & cols & 8 bit image\n",
    "d = img.shape\n",
    "m = d[0]\n",
    "n = d[1]\n",
    "o = np.zeros([m,n], dtype=np.uint8)\n",
    "\n",
    "#for blueish color\n",
    "for i in range(1,m):\n",
    "    for j in range(1,n):\n",
    "        if blue[i][j]==249 and green[i][j]==33 and red[i][j]== 4:\n",
    "            o[i][j] = 255\n",
    "plt.subplot(1,2,1)\n",
    "plt.imshow(cv2.cvtColor(img,cv2.COLOR_BGR2RGB))\n",
    "plt.title('Input Image')\n",
    "plt.axis(\"off\")\n",
    "\n",
    "plt.subplot(1,2,2) \n",
    "plt.imshow(o,'gray')\n",
    "plt.title(\"Color Detected\")\n",
    "plt.axis(\"off\")\n",
    "\n",
    "plt.savefig(\"newImage.jpg\")\n",
    "plt.show()"
   ]
  },
  {
   "cell_type": "code",
   "execution_count": null,
   "metadata": {},
   "outputs": [],
   "source": []
  }
 ],
 "metadata": {
  "kernelspec": {
   "display_name": "Python 3",
   "language": "python",
   "name": "python3"
  },
  "language_info": {
   "codemirror_mode": {
    "name": "ipython",
    "version": 3
   },
   "file_extension": ".py",
   "mimetype": "text/x-python",
   "name": "python",
   "nbconvert_exporter": "python",
   "pygments_lexer": "ipython3",
   "version": "3.6.5"
  }
 },
 "nbformat": 4,
 "nbformat_minor": 2
}
