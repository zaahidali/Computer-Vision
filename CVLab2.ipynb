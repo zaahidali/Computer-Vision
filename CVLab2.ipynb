{
 "cells": [
  {
   "cell_type": "code",
   "execution_count": 5,
   "metadata": {},
   "outputs": [],
   "source": [
    "import cv2\n"
   ]
  },
  {
   "cell_type": "markdown",
   "metadata": {},
   "source": [
    "# https://codeloop.org/opencv-python-color-detection-example/"
   ]
  },
  {
   "cell_type": "code",
   "execution_count": 24,
   "metadata": {},
   "outputs": [
    {
     "name": "stdout",
     "output_type": "stream",
     "text": [
      "[]\n"
     ]
    }
   ],
   "source": [
    "cv2.destroyAllWindows()\n",
    "img = cv2.imread('input.png',1)\n",
    "\n",
    "d = img.shape\n",
    "shape = (d[1]+200,d[0]+200)\n",
    "img = cv2.resize(img,shape)\n",
    "\n",
    "region = cv2.selectROI('window',img)\n",
    "cv2.waitKey(0)\n",
    "cv2.destroyAllWindows()\n",
    "\n",
    "# colors in BGR form\n",
    "(x,y,w,h) = region\n",
    "cropped = img[y:y+h, x:x+w]\n",
    "print(cropped)"
   ]
  },
  {
   "cell_type": "code",
   "execution_count": 8,
   "metadata": {},
   "outputs": [
    {
     "data": {
      "text/plain": [
       "<Figure size 640x480 with 2 Axes>"
      ]
     },
     "metadata": {},
     "output_type": "display_data"
    }
   ],
   "source": [
    "import numpy as np\n",
    "import matplotlib.pyplot as plt\n",
    "\n",
    "#bgr\n",
    "blue = img[:,:,0]\n",
    "green = img[:,:,1]\n",
    "red = img[:,:,2]\n",
    "\n",
    "d = img.shape\n",
    "m = d[0]\n",
    "n = d[1]\n",
    "o = np.zeros([m,n], dtype=np.uint8)\n",
    "\n",
    "\n",
    "for i in range(1,m):\n",
    "    for j in range(1,n):\n",
    "        if blue[i][j]==0 and green[i][j]==255 and red[i][j]== 0:\n",
    "            o[i][j] = 255\n",
    "plt.subplot(1,2,1), plt.imshow(cv2.cvtColor(img,cv2.COLOR_BGR2RGB)), plt.title('Input Image')\n",
    "plt.axis(\"off\")\n",
    "plt.subplot(1,2,2), plt.imshow(o,'gray'), plt.title(\"Color Detected\")\n",
    "plt.axis(\"off\")\n",
    "\n",
    "plt.savefig(\"final_image_name.jpg\")\n",
    "plt.show()"
   ]
  },
  {
   "cell_type": "code",
   "execution_count": 12,
   "metadata": {},
   "outputs": [
    {
     "ename": "AttributeError",
     "evalue": "'numpy.ndarray' object has no attribute 'detail'",
     "output_type": "error",
     "traceback": [
      "\u001b[1;31m---------------------------------------------------------------------------\u001b[0m",
      "\u001b[1;31mAttributeError\u001b[0m                            Traceback (most recent call last)",
      "\u001b[1;32m<ipython-input-12-2864aa12f020>\u001b[0m in \u001b[0;36m<module>\u001b[1;34m()\u001b[0m\n\u001b[1;32m----> 1\u001b[1;33m \u001b[0mimg\u001b[0m\u001b[1;33m.\u001b[0m\u001b[0mdetail\u001b[0m\u001b[1;33m\u001b[0m\u001b[0m\n\u001b[0m",
      "\u001b[1;31mAttributeError\u001b[0m: 'numpy.ndarray' object has no attribute 'detail'"
     ]
    }
   ],
   "source": []
  },
  {
   "cell_type": "code",
   "execution_count": 26,
   "metadata": {},
   "outputs": [
    {
     "name": "stdout",
     "output_type": "stream",
     "text": [
      "[[[249  33   4]\n",
      "  [249  33   4]\n",
      "  [249  33   4]\n",
      "  ...\n",
      "  [249  33   4]\n",
      "  [249  33   4]\n",
      "  [249  33   4]]\n",
      "\n",
      " [[249  33   4]\n",
      "  [249  33   4]\n",
      "  [249  33   4]\n",
      "  ...\n",
      "  [249  33   4]\n",
      "  [249  33   4]\n",
      "  [249  33   4]]\n",
      "\n",
      " [[249  33   4]\n",
      "  [249  33   4]\n",
      "  [249  33   4]\n",
      "  ...\n",
      "  [249  33   4]\n",
      "  [249  33   4]\n",
      "  [249  33   4]]\n",
      "\n",
      " ...\n",
      "\n",
      " [[249  33   4]\n",
      "  [249  33   4]\n",
      "  [249  33   4]\n",
      "  ...\n",
      "  [249  33   4]\n",
      "  [249  33   4]\n",
      "  [249  33   4]]\n",
      "\n",
      " [[249  33   4]\n",
      "  [249  33   4]\n",
      "  [249  33   4]\n",
      "  ...\n",
      "  [249  33   4]\n",
      "  [249  33   4]\n",
      "  [249  33   4]]\n",
      "\n",
      " [[249  33   4]\n",
      "  [249  33   4]\n",
      "  [249  33   4]\n",
      "  ...\n",
      "  [249  33   4]\n",
      "  [249  33   4]\n",
      "  [249  33   4]]]\n"
     ]
    }
   ],
   "source": [
    "cv2.destroyAllWindows()\n",
    "img = cv2.imread('input3.jpg',1)\n",
    "\n",
    "d = img.shape\n",
    "shape = (d[1]+200,d[0]+200)\n",
    "img = cv2.resize(img,shape)\n",
    "\n",
    "region = cv2.selectROI('window',img)\n",
    "cv2.waitKey(0)\n",
    "cv2.destroyAllWindows()\n",
    "\n",
    "# colors in BGR form\n",
    "(x,y,w,h) = region\n",
    "cropped = img[y:y+h, x:x+w]\n",
    "print(cropped)"
   ]
  },
  {
   "cell_type": "code",
   "execution_count": 27,
   "metadata": {},
   "outputs": [
    {
     "data": {
      "image/png": "[encoded data removed]",
      "text/plain": [
       "<Figure size 432x288 with 2 Axes>"
      ]
     },
     "metadata": {},
     "output_type": "display_data"
    }
   ],
   "source": [
    "import numpy as np\n",
    "import matplotlib.pyplot as plt\n",
    "\n",
    "#bgr\n",
    "blue = img[:,:,0]\n",
    "green = img[:,:,1]\n",
    "red = img[:,:,2]\n",
    "\n",
    "#image rows & cols & 8 bit image\n",
    "d = img.shape\n",
    "m = d[0]\n",
    "n = d[1]\n",
    "o = np.zeros([m,n], dtype=np.uint8)\n",
    "\n",
    "#for blueish color\n",
    "for i in range(1,m):\n",
    "    for j in range(1,n):\n",
    "        if blue[i][j]==249 and green[i][j]==33 and red[i][j]== 4:\n",
    "            o[i][j] = 255\n",
    "plt.subplot(1,2,1)\n",
    "plt.imshow(cv2.cvtColor(img,cv2.COLOR_BGR2RGB))\n",
    "plt.title('Input Image')\n",
    "plt.axis(\"off\")\n",
    "\n",
    "plt.subplot(1,2,2) \n",
    "plt.imshow(o,'gray')\n",
    "plt.title(\"Color Detected\")\n",
    "plt.axis(\"off\")\n",
    "\n",
    "plt.savefig(\"newImage.jpg\")\n",
    "plt.show()"
   ]
  },
  {
   "cell_type": "code",
   "execution_count": 1,
   "metadata": {},
   "outputs": [],
   "source": [
    "import cv2"
   ]
  },
  {
   "cell_type": "code",
   "execution_count": 5,
   "metadata": {},
   "outputs": [],
   "source": [
    "import numpy as np\n",
    "import pandas as pd\n",
    "import matplotlib.pyplot as plt\n"
   ]
  },
  {
   "cell_type": "code",
   "execution_count": 24,
   "metadata": {},
   "outputs": [
    {
     "data": {
      "text/plain": [
       "(-0.5, 545.5, 334.5, -0.5)"
      ]
     },
     "execution_count": 24,
     "metadata": {},
     "output_type": "execute_result"
    },
    {
     "data": {
      "image/png": "[encoded data removed]",
      "text/plain": [
       "<Figure size 432x288 with 14 Axes>"
      ]
     },
     "metadata": {},
     "output_type": "display_data"
    }
   ],
   "source": [
    "img = cv2.imread('8.jpg',-1)\n",
    "img2 = cv2.imread('8o.jpg',-1);  # opening image\n",
    "img3 = cv2.imread('8c.jpg',-1);  # closing image\n",
    "\n",
    "kernel1 = np.ones((7,7))   # for dilation\n",
    "kernel2 = np.ones((3,3))   # for erosion\n",
    "kernel3= np.ones((3,3),np.uint8) # for opening\n",
    "kernel4= np.ones((10,10),np.uint8) # for closing\n",
    "kernel5= np.ones((5,5),np.uint8) # for morphological\n",
    "\n",
    "############\n",
    "dilation = cv2.dilate(img,kernel1)\n",
    "eroded = cv2.erode(img,kernel2)\n",
    "o = cv2.morphologyEx(img,cv2.MORPH_OPEN,kernel3)\n",
    "close = cv2.morphologyEx(img3,cv2.MORPH_CLOSE, kernel)\n",
    "mg = cv2.morphologyEx(img,cv2.MORPH_GRADIENT, kernel5)\n",
    "\n",
    "\n",
    "\n",
    "######## white hat\n",
    "\n",
    "img4 = cv2.imread('image2.png',-1);\n",
    "kernel6= np.ones((20,20),np.uint8)\n",
    "dilation2 =cv2.morphologyEx(img4,cv2.MORPH_TOPHAT,kernel6)\n",
    "######## black hat\n",
    "bh = cv2.morphologyEx(img4,cv2.MORPH_BLACKHAT,kernel6)\n",
    "\n",
    "\n",
    "################# Images display code\n",
    "\n",
    "plt.subplot(3,5,1)\n",
    "plt.imshow(cv2.cvtColor(img, cv2.COLOR_BGR2RGB))\n",
    "plt.title(\"Inp img\")\n",
    "plt.axis(\"off\")\n",
    "\n",
    "plt.subplot(3,5,2)\n",
    "plt.imshow(cv2.cvtColor(dilation, cv2.COLOR_BGR2RGB))\n",
    "plt.title(\"Dilated img\")\n",
    "plt.axis(\"off\")\n",
    "\n",
    "\n",
    "plt.subplot(3,5,3)\n",
    "plt.imshow(cv2.cvtColor(img, cv2.COLOR_BGR2RGB))\n",
    "plt.title(\"Inp img\")\n",
    "plt.axis(\"off\")\n",
    "\n",
    "plt.subplot(3,5,4)\n",
    "plt.imshow(cv2.cvtColor(eroded, cv2.COLOR_BGR2RGB))\n",
    "plt.title(\"Eroded img\")\n",
    "plt.axis(\"off\")\n",
    "\n",
    "\n",
    "plt.subplot(3,5,5)\n",
    "plt.imshow(cv2.cvtColor(img2, cv2.COLOR_BGR2RGB))\n",
    "plt.title(\"Inp img\")\n",
    "plt.axis(\"off\")\n",
    "\n",
    "plt.subplot(3,5,6)\n",
    "plt.imshow(cv2.cvtColor(o, cv2.COLOR_BGR2RGB))\n",
    "plt.title(\"Opening img\")\n",
    "plt.axis(\"off\")\n",
    "\n",
    "\n",
    "plt.subplot(3,5,7)\n",
    "plt.imshow(cv2.cvtColor(img3, cv2.COLOR_BGR2RGB))\n",
    "plt.title(\"Inp\")\n",
    "plt.axis(\"off\")\n",
    "\n",
    "plt.subplot(3,5,8)\n",
    "plt.imshow(cv2.cvtColor(close, cv2.COLOR_BGR2RGB))\n",
    "plt.title(\"Closing img\")\n",
    "plt.axis(\"off\")\n",
    "\n",
    "\n",
    "\n",
    "plt.subplot(3,5,9)\n",
    "plt.imshow(cv2.cvtColor(img, cv2.COLOR_BGR2RGB))\n",
    "plt.title(\"Inp \")\n",
    "plt.axis(\"off\")\n",
    "\n",
    "plt.subplot(3,5,10)\n",
    "plt.imshow(cv2.cvtColor(mg, cv2.COLOR_BGR2RGB))\n",
    "plt.title(\"Morp img\")\n",
    "plt.axis(\"off\")\n",
    "\n",
    "#######\n",
    "\n",
    "plt.subplot(3,5,11)\n",
    "plt.imshow(cv2.cvtColor(img4, cv2.COLOR_BGR2RGB))\n",
    "plt.title(\"Inp \")\n",
    "plt.axis(\"off\")\n",
    "\n",
    "plt.subplot(3,5,12)\n",
    "plt.imshow(cv2.cvtColor(dilation2, cv2.COLOR_BGR2RGB))\n",
    "plt.title(\"White Hat\")\n",
    "plt.axis(\"off\")\n",
    "\n",
    "\n",
    "\n",
    "plt.subplot(3,5,13)\n",
    "plt.imshow(cv2.cvtColor(img4, cv2.COLOR_BGR2RGB))\n",
    "plt.title(\"Inp\")\n",
    "plt.axis(\"off\")\n",
    "\n",
    "plt.subplot(3,5,14)\n",
    "plt.imshow(cv2.cvtColor(bh, cv2.COLOR_BGR2RGB))\n",
    "plt.title(\"Black Hat\")\n",
    "plt.axis(\"off\")\n"
   ]
  },
  {
   "cell_type": "code",
   "execution_count": null,
   "metadata": {},
   "outputs": [],
   "source": []
  }
 ],
 "metadata": {
  "kernelspec": {
   "display_name": "Python 3",
   "language": "python",
   "name": "python3"
  },
  "language_info": {
   "codemirror_mode": {
    "name": "ipython",
    "version": 3
   },
   "file_extension": ".py",
   "mimetype": "text/x-python",
   "name": "python",
   "nbconvert_exporter": "python",
   "pygments_lexer": "ipython3",
   "version": "3.6.5"
  }
 },
 "nbformat": 4,
 "nbformat_minor": 2
}
